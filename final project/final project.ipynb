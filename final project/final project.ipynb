{
  "nbformat": 4,
  "nbformat_minor": 0,
  "metadata": {
    "colab": {
      "provenance": [],
      "include_colab_link": true
    },
    "kernelspec": {
      "name": "python3",
      "display_name": "Python 3"
    },
    "language_info": {
      "name": "python"
    }
  },
  "cells": [
    {
      "cell_type": "markdown",
      "metadata": {
        "id": "view-in-github",
        "colab_type": "text"
      },
      "source": [
        "<a href=\"https://colab.research.google.com/github/GraceHerchenroder/Neuro265/blob/main/final%20project/final%20project.ipynb\" target=\"_parent\"><img src=\"https://colab.research.google.com/assets/colab-badge.svg\" alt=\"Open In Colab\"/></a>"
      ]
    },
    {
      "cell_type": "markdown",
      "source": [
        "# Final Project"
      ],
      "metadata": {
        "id": "z_xhza_a8R7G"
      }
    },
    {
      "cell_type": "markdown",
      "source": [
        "###Grace Herchenroder\n",
        "*Neuro265: Neural Data Analysis*"
      ],
      "metadata": {
        "id": "ZNz2_9L7z7Wg"
      }
    },
    {
      "cell_type": "code",
      "source": [
        "# Import relevant details\n",
        "\n",
        "import numpy as np\n",
        "import matplotlib.pyplot as plt\n",
        "import pandas as pd"
      ],
      "metadata": {
        "id": "HT1oXAFk0Ems"
      },
      "execution_count": 62,
      "outputs": []
    },
    {
      "cell_type": "markdown",
      "source": [
        "## **Gender**: Number of AT8 vs pTDP43 positive cells in grey matter"
      ],
      "metadata": {
        "id": "TJOCk7xtdqyP"
      }
    },
    {
      "cell_type": "code",
      "source": [
        "# Upload relevant files\n",
        "\n",
        "alzheimer_data = pd.read_csv('https://raw.githubusercontent.com/GraceHerchenroder/Neuro265/main/final%20project/alzheimers_pathology_final_project.csv')\n",
        "alzheimer_ID = pd.read_excel('https://raw.githubusercontent.com/GraceHerchenroder/Neuro265/main/final%20project/alzheimers_IDs_final_project.xlsx')"
      ],
      "metadata": {
        "id": "HKHKfJxAa4Cb"
      },
      "execution_count": 63,
      "outputs": []
    },
    {
      "cell_type": "code",
      "source": [
        "# Separating donor IDs\n",
        "\n",
        "donor_ID = alzheimer_ID['Donor ID']\n",
        "donor_ID_data = alzheimer_data['Donor ID']\n",
        "sex_ID = alzheimer_ID['Sex']\n",
        "\n",
        "female_ID = donor_ID[sex_ID == 'Female']\n",
        "male_ID = donor_ID[sex_ID == 'Male']\n",
        "\n",
        "print(male_ID.size)\n",
        "print(female_ID.size)"
      ],
      "metadata": {
        "id": "JgqlGlV4crJR",
        "outputId": "e1056306-facf-4f0f-9a6e-81f1402e9d32",
        "colab": {
          "base_uri": "https://localhost:8080/"
        }
      },
      "execution_count": 83,
      "outputs": [
        {
          "output_type": "stream",
          "name": "stdout",
          "text": [
            "33\n",
            "51\n"
          ]
        }
      ]
    },
    {
      "cell_type": "code",
      "source": [
        "# Separating relevant data by gender\n",
        "AT8 = alzheimer_data['number of AT8 positive cells_Grey matter']\n",
        "AT8_female = np.zeros(len(female_ID))\n",
        "AT8_male = np.zeros(len(male_ID))\n",
        "for i in range(len(female_ID)):\n",
        "  AT8_female[i] = AT8[donor_ID_data == female_ID.iloc[i]]\n",
        "for i in range(len(male_ID)):\n",
        "  AT8_male[i] = AT8[donor_ID_data == male_ID.iloc[i]]\n",
        "\n",
        "pTDP43 = alzheimer_data['number of pTDP43 positive cells_Grey matter']\n",
        "pTDP43_female = np.zeros(len(female_ID))\n",
        "pTDP43_male = np.zeros(len(male_ID))\n",
        "for i in range(len(female_ID)):\n",
        "  pTDP43_female[i] = pTDP43[donor_ID_data == female_ID.iloc[i]]\n",
        "for i in range(len(male_ID)):\n",
        "  pTDP43_male[i] = pTDP43[donor_ID_data == male_ID.iloc[i]]"
      ],
      "metadata": {
        "id": "i2MJFVhUgV_S",
        "outputId": "6b3fda9a-f0ce-4873-bbc4-220473efe3db",
        "colab": {
          "base_uri": "https://localhost:8080/"
        }
      },
      "execution_count": 96,
      "outputs": [
        {
          "output_type": "stream",
          "name": "stderr",
          "text": [
            "<ipython-input-96-13404884c1ed>:5: FutureWarning: Calling float on a single element Series is deprecated and will raise a TypeError in the future. Use float(ser.iloc[0]) instead\n",
            "  AT8_female[i] = AT8[donor_ID_data == female_ID.iloc[i]]\n",
            "<ipython-input-96-13404884c1ed>:7: FutureWarning: Calling float on a single element Series is deprecated and will raise a TypeError in the future. Use float(ser.iloc[0]) instead\n",
            "  AT8_male[i] = AT8[donor_ID_data == male_ID.iloc[i]]\n",
            "<ipython-input-96-13404884c1ed>:13: FutureWarning: Calling float on a single element Series is deprecated and will raise a TypeError in the future. Use float(ser.iloc[0]) instead\n",
            "  pTDP43_female[i] = pTDP43[donor_ID_data == female_ID.iloc[i]]\n",
            "<ipython-input-96-13404884c1ed>:15: FutureWarning: Calling float on a single element Series is deprecated and will raise a TypeError in the future. Use float(ser.iloc[0]) instead\n",
            "  pTDP43_male[i] = pTDP43[donor_ID_data == male_ID.iloc[i]]\n"
          ]
        }
      ]
    }
  ]
}