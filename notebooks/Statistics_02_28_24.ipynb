{
  "nbformat": 4,
  "nbformat_minor": 0,
  "metadata": {
    "colab": {
      "provenance": [],
      "include_colab_link": true
    },
    "kernelspec": {
      "name": "python3",
      "display_name": "Python 3"
    },
    "language_info": {
      "name": "python"
    }
  },
  "cells": [
    {
      "cell_type": "markdown",
      "metadata": {
        "id": "view-in-github",
        "colab_type": "text"
      },
      "source": [
        "<a href=\"https://colab.research.google.com/github/GraceHerchenroder/Neuro265/blob/main/notebooks/Statistics_02_28_24.ipynb\" target=\"_parent\"><img src=\"https://colab.research.google.com/assets/colab-badge.svg\" alt=\"Open In Colab\"/></a>"
      ]
    },
    {
      "cell_type": "markdown",
      "source": [
        "# Statistics for Neuroscientists\n",
        "\n",
        "This notebook will discuss **descriptive** and **inferential** statistics, and introduce ways to implement them in Python.\n",
        "\n",
        "### By the end of this notebook, you will be able to:\n",
        "\n",
        "* Identify when to use descriptive or inferential statistics\n",
        "* Apply the appropriate statistical tests to compare two groups\n",
        "* Use the stats package from SciPy to run simple tests in Python\n",
        "* Test direction selectivity differences in two Brain Observatory cell types\n",
        "\n",
        "\n"
      ],
      "metadata": {
        "id": "EvkdoGKpqxDB"
      }
    },
    {
      "cell_type": "markdown",
      "source": [
        "## Part One: Population vs sample distributions\n",
        "\n",
        "**Descriptive statistics** summarize the main features of a data set.\n",
        "\n",
        "It's important to distinguish between the following:\n",
        "\n",
        "* **Observation**: result from one trial of an experiment (like a sweep)\n",
        "* **Sample**: results from multiple independent trials (all sweeps)\n",
        "* **Population**: the *ground truth*; all possible observations that could be seen\n",
        "\n",
        "Distributions differ in their **location** (mean, $\\\\mu$) and **spread** (standard deviation, $\\\\sigma$). Below, we'll define a **population distribution** and plot it."
      ],
      "metadata": {
        "id": "fHn9N0l_rMQt"
      }
    },
    {
      "cell_type": "code",
      "source": [
        "# Import our necessary toolboxes and tell matplotlib to plot inline\n",
        "import numpy as np\n",
        "%matplotlib inline\n",
        "import matplotlib.pyplot as plt\n",
        "\n",
        "# Decide on a mean (mu) and a standard deviation (sigma)\n",
        "mu, sigma = 3, 2\n",
        "\n",
        "# Use np.random.normal to create a distribution of 10,000 points with our given mu & sigma\n",
        "pop = np.random.normal(mu, sigma, 10000)"
      ],
      "metadata": {
        "id": "ais0ngbBrlZT"
      },
      "execution_count": 2,
      "outputs": []
    },
    {
      "cell_type": "code",
      "source": [
        "# Plot a histogram with 30 bins\n",
        "# Giving it the argument density=True will plot normalized counts\n",
        "# This will create a probability density (rather than raw counts)\n",
        "plt.hist(pop, 30, density=True)\n",
        "plt.axvline(mu,color='r')\n",
        "plt.title('Population distribution of 10,000 points')\n",
        "plt.show()"
      ],
      "metadata": {
        "id": "YXvbuoAgrucu",
        "outputId": "b4ad170c-35b3-4012-9810-3ddd8b2400e6",
        "colab": {
          "base_uri": "https://localhost:8080/",
          "height": 452
        }
      },
      "execution_count": 5,
      "outputs": [
        {
          "output_type": "display_data",
          "data": {
            "text/plain": [
              "<Figure size 640x480 with 1 Axes>"
            ],
            "image/png": "[encoded data removed]"
          },
          "metadata": {}
        }
      ]
    },
    {
      "cell_type": "markdown",
      "source": [
        "There are various ways we can describe the distribution of the dataset, beyond the standard deviation:\n",
        "\n",
        "* Range (minimum and maximum)\n",
        "* Variance ($\\\\sigma^2$)\n",
        "* Standard Error of the Mean (S.E.M., $\\\\sigma/\\\\sqrt{n}$)\n",
        "* Confidence Intervals\n",
        "\n",
        "We can easily get many of these descriptive statistics by using the `scipy stats` package method `describe()`. [Documentation here.](https://docs.scipy.org/doc/scipy/reference/generated/scipy.stats.describe.html)"
      ],
      "metadata": {
        "id": "na83NXSZrzFV"
      }
    },
    {
      "cell_type": "markdown",
      "source": [
        "*Variance*: often used because it makes everything positive\n",
        "\n",
        "*Confidence Intervals*: a percentile chance that the true population mean falls within the confidence interval"
      ],
      "metadata": {
        "id": "mLurD4Y9-ovQ"
      }
    },
    {
      "cell_type": "code",
      "source": [
        "from scipy import stats\n",
        "\n",
        "stats.describe(pop)\n",
        "# mean and variance are not exactly what was set as we ae looking at a random set of numbers"
      ],
      "metadata": {
        "id": "F66gjMPxsFeK",
        "outputId": "b9b8abce-a365-4333-e964-adb030d5ef27",
        "colab": {
          "base_uri": "https://localhost:8080/"
        }
      },
      "execution_count": 8,
      "outputs": [
        {
          "output_type": "execute_result",
          "data": {
            "text/plain": [
              "DescribeResult(nobs=10000, minmax=(-4.361608743395152, 10.395149961530617), mean=2.9738149563030647, variance=3.9571777615068404, skewness=0.0022742166997595696, kurtosis=-0.0267051391666433)"
            ]
          },
          "metadata": {},
          "execution_count": 8
        }
      ]
    },
    {
      "cell_type": "markdown",
      "source": [
        "We created a normal distribution from a mean of 3 but with limited points, so these values are *just* slightly off. You'll also notice that the variance is indeed our standard deviation (2) squared.\n",
        "\n",
        "Our variable `pop` is the \\\"ground truth\\\" population. However, we'll rarely have *10,000* datapoints in our sample. So, let's generate a more realistic sample, and see how the mean compares."
      ],
      "metadata": {
        "id": "XUiOEdrmsUFU"
      }
    },
    {
      "cell_type": "code",
      "source": [
        "# Create a sample distribution with less data points\n",
        "sample_mean, sample_sigma = 3, 2\n",
        "sample = np.random.normal(sample_mean, sample_sigma, 20)\n",
        "\n",
        "# Plot our histogram, with alpha to 0.5 which will make the chart slightly transparent\n",
        "plt.hist(pop, 30, alpha=0.5, density=True)\n",
        "plt.hist(sample, 30, alpha=0.5, color='r',density=True)\n",
        "plt.axvline(np.mean(pop),color='blue') # Take the mean and plot a vertical blue line\n",
        "plt.axvline(np.mean(sample),color='red') # Take the mean and plot a vertical red line\n",
        "plt.legend(['Population', 'Sample'])\n",
        "plt.show()"
      ],
      "metadata": {
        "id": "FH2BmXFtse61",
        "outputId": "80b7707d-ab2c-431a-abdb-2d0cc89ca37d",
        "colab": {
          "base_uri": "https://localhost:8080/",
          "height": 430
        }
      },
      "execution_count": 16,
      "outputs": [
        {
          "output_type": "display_data",
          "data": {
            "text/plain": [
              "<Figure size 640x480 with 1 Axes>"
            ],
            "image/png": "[encoded data removed]"
          },
          "metadata": {}
        }
      ]
    },
    {
      "cell_type": "code",
      "source": [
        "# Look at the descriptive statistics of our sample\n",
        "print(stats.describe(sample))"
      ],
      "metadata": {
        "id": "dUzQxuk3shmb",
        "outputId": "7e600b46-1635-4aaa-954e-6f22b3ffbef1",
        "colab": {
          "base_uri": "https://localhost:8080/"
        }
      },
      "execution_count": 11,
      "outputs": [
        {
          "output_type": "stream",
          "name": "stdout",
          "text": [
            "DescribeResult(nobs=20, minmax=(-1.4029755429256587, 5.409557894901301), mean=2.7584958748670583, variance=3.1006064854620967, skewness=-0.3811764912532305, kurtosis=-0.0662538147456857)\n"
          ]
        }
      ]
    },
    {
      "cell_type": "markdown",
      "source": [
        "## Part Two: The Central Limit Theorem\n",
        "\n",
        "With fewer samples, the mean of the sample distribution tends to be further from the mean of the population distribution. This is known as the **central limit theorem**, which states that the distribution of sample means will become increasingly close to a normal distribution as the sample size increases, regardless of the shape of the population distribution."
      ],
      "metadata": {
        "id": "FRwZ-sjusqMs"
      }
    },
    {
      "cell_type": "code",
      "source": [
        "fig,ax = plt.subplots(1,5,figsize=(20,5),sharey=True)\n",
        "\n",
        "mu = 0\n",
        "\n",
        "sample_means = []\n",
        "\n",
        "# For each subplot, create a plot.\n",
        "for a in range(len(ax)):\n",
        "\n",
        "    # Make the sample size = to 3^(a+1)\n",
        "    sample_size = 3**(a+1)\n",
        "\n",
        "    # Calculate the mean of sample of sample_size designated above, 10000 times\n",
        "    for x in range(10000):\n",
        "        sample_dist = np.random.normal(mu, 10, sample_size) # Create a normal distribution with mu, sigma\n",
        "        sample_means.append(np.mean(sample_dist)) # Append the mean of this distribution\n",
        "\n",
        "    ax[a].hist(sample_means,color='teal',alpha = .5) # Plot the distribution of means\n",
        "    ax[a].set_title('sample size= '+ str(sample_size)+', mean = '+ str(np.round(np.mean(sample_means),3)))\n",
        "    ax[a].set_xlim([-20,20])\n",
        "    sample_means = [] # Reset the sample means\n",
        "\n",
        "plt.suptitle('Distributions of 10,000 sample means for a population with mean '+str(mu),fontsize=16)\n",
        "\n",
        "plt.show()"
      ],
      "metadata": {
        "id": "p-we6cpss2EE",
        "outputId": "95eee925-69fc-4c88-dc2b-864cf09b467b",
        "colab": {
          "base_uri": "https://localhost:8080/",
          "height": 433
        }
      },
      "execution_count": 18,
      "outputs": [
        {
          "output_type": "display_data",
          "data": {
            "text/plain": [
              "<Figure size 2000x500 with 5 Axes>"
            ],
            "image/png": "[encoded data removed]"
          },
          "metadata": {}
        }
      ]
    },
    {
      "cell_type": "markdown",
      "source": [
        "## Part Three: Skewed Distributions\n",
        "\n",
        "However, not every population in nature is **normally distributed**. In fact, most populations are slightly skewed. Let's demonstrate a population distribution and sample distribution that is drawn from a [gamma distribution](https://en.wikipedia.org/wiki/Gamma_distribution)."
      ],
      "metadata": {
        "id": "BibYcLQouwRe"
      }
    },
    {
      "cell_type": "code",
      "source": [
        "# Create a skewed distribution of 10,000 points with our given mu & sigma\n",
        "pop_size = 10000\n",
        "sample_size = 100\n",
        "\n",
        "skewed_pop = np.random.gamma(7.5,1,pop_size)\n",
        "skewed_sample = np.random.gamma(7.5,1,sample_size)\n",
        "\n",
        "pop_stats = stats.describe(skewed_sample)\n",
        "sample_stats = stats.describe(skewed_pop)\n",
        "\n",
        "plt.hist(skewed_pop, 30, alpha = .3, density=True)\n",
        "plt.hist(skewed_sample, 30, alpha = .3, density=True)\n",
        "plt.axvline(pop_stats.mean,color='blue')\n",
        "plt.axvline(sample_stats.mean,color='orange') # plot the mean of the sample\n",
        "\n",
        "plt.legend(['Population','Sample'])\n",
        "\n",
        "plt.show()"
      ],
      "metadata": {
        "id": "uMMaX_b7u2_q",
        "outputId": "46dcd15e-f287-4073-a592-0f2155b0d236",
        "colab": {
          "base_uri": "https://localhost:8080/",
          "height": 430
        }
      },
      "execution_count": 25,
      "outputs": [
        {
          "output_type": "display_data",
          "data": {
            "text/plain": [
              "<Figure size 640x480 with 1 Axes>"
            ],
            "image/png": "[encoded data removed]"
          },
          "metadata": {}
        }
      ]
    },
    {
      "cell_type": "markdown",
      "source": [
        "You might notice that with this skewed population, the mean is a pretty poor descriptor of both distributions. **When the skew is bad (*statistically bad*), we should report the median.**\n",
        "\n"
      ],
      "metadata": {
        "id": "afsSR0KPvBJq"
      }
    },
    {
      "cell_type": "markdown",
      "source": [
        "### Important notes:\n",
        "\n",
        "* <code>stats.describe()</code> doesn't give us the median (annoyingly) but `np.median()` can!\n",
        "* The `stats.skewtest()` method ([documentation here](https://docs.scipy.org/doc/scipy/reference/generated/scipy.stats.skewtest.html#scipy.stats.skewtest)) implements the [D'Agostino-Pearson skewness test](https://www.jstor.org/stable/2684359?seq=1), one of many different tests (e.g., the Kolmogorov-Smirov test) that can be used to check the normality of a distribution.\n",
        "* This code can return a statistic as well as a pvalue, if you designate it."
      ],
      "metadata": {
        "id": "mCTY36dSvSSS"
      }
    },
    {
      "cell_type": "markdown",
      "source": [
        "><b>Task:</b>\n",
        "1. Rework the code directly above so that if the skew is significant (you can use <code>stats.skewtest()</code> for that!), plot and report the <b>median</b> instead of the mean.\n",
        "2. Rework our demonstration of the central limit theorem for a skewed, rather than a normal, population. Does the theorem still hold?"
      ],
      "metadata": {
        "id": "htEmP2-Wvmio"
      }
    },
    {
      "cell_type": "code",
      "source": [
        "plt.hist(skewed_pop, 30, alpha = .3, density=True)\n",
        "plt.hist(skewed_sample, 30, alpha = .3, density=True)\n",
        "\n",
        "statistic_pop, pvalue_pop = stats.skewtest(skewed_pop);\n",
        "statistic_samp, pvalue_samp = stats.skewtest(skewed_sample);\n",
        "\n",
        "if pvalue_pop < 0.05:\n",
        "  plt.axvline(np.median(skewed_pop),color='blue')\n",
        "  legend_1 = 'population median'\n",
        "else:\n",
        "  plt.axvline(pop_stats.mean,color='purple')\n",
        "  legend_1 = 'population mean'\n",
        "\n",
        "if pvalue_samp < 0.05:\n",
        "  plt.axvline(np.median(skewed_sample),color='orange')\n",
        "  legend_2 = 'sample median'\n",
        "else:\n",
        "  plt.axvline(sample_stats.mean,color='red')\n",
        "  legend_2 = 'sample mean'\n",
        "\n",
        "plt.legend([legend_1, legend_2])\n",
        "plt.show()"
      ],
      "metadata": {
        "id": "X3WucW2GBSjV",
        "outputId": "dfbcf1c9-1f3c-4798-ca92-791c130fa414",
        "colab": {
          "base_uri": "https://localhost:8080/",
          "height": 430
        }
      },
      "execution_count": 54,
      "outputs": [
        {
          "output_type": "display_data",
          "data": {
            "text/plain": [
              "<Figure size 640x480 with 1 Axes>"
            ],
            "image/png": "[encoded data removed]"
          },
          "metadata": {}
        }
      ]
    },
    {
      "cell_type": "code",
      "source": [
        "# NOT what is supposed to happen\n",
        "\n",
        "fig,ax = plt.subplots(1,5,figsize=(20,5),sharey=True)\n",
        "\n",
        "mu = 0\n",
        "\n",
        "sample_means = []\n",
        "\n",
        "# For each subplot, create a plot.\n",
        "for a in range(len(ax)):\n",
        "\n",
        "    # Make the sample size = to 3^(a+1)\n",
        "    sample_size = 3**(a+1)\n",
        "\n",
        "    # Calculate the mean of sample of sample_size designated above, 10000 times\n",
        "    for x in range(10000):\n",
        "        sample_dist = np.random.gamma(mu, 10, sample_size) # Create a normal distribution with mu, sigma\n",
        "        sample_means.append(np.mean(sample_dist)) # Append the mean of this distribution\n",
        "\n",
        "    ax[a].hist(sample_means,color='teal',alpha = .5) # Plot the distribution of means\n",
        "    ax[a].set_title('sample size= '+ str(sample_size)+', mean = '+ str(np.round(np.mean(sample_means),3)))\n",
        "    ax[a].set_xlim([-20,20])\n",
        "    sample_means = [] # Reset the sample means\n",
        "\n",
        "plt.suptitle('Distributions of 10,000 sample means for a population with mean '+str(mu),fontsize=16)\n",
        "\n",
        "plt.show()"
      ],
      "metadata": {
        "id": "-sC0nDPnFUGl",
        "outputId": "a0e8e4c0-5eb7-4234-c0a2-011d58b0ce5f",
        "colab": {
          "base_uri": "https://localhost:8080/",
          "height": 431
        }
      },
      "execution_count": 55,
      "outputs": [
        {
          "output_type": "display_data",
          "data": {
            "text/plain": [
              "<Figure size 2000x500 with 5 Axes>"
            ],
            "image/png": "[encoded data removed]"
          },
          "metadata": {}
        }
      ]
    },
    {
      "cell_type": "markdown",
      "source": [
        "## Part Four: Hypothesis Testing\n",
        "\n",
        "**Inferential statistics** generalize from observed data to the world at large\n",
        "\n",
        "Most often, the goal of our hypothesis testing is to test whether or not two distributions are different, or if a distribution has a different mean than the underlying population distribution.\n",
        "\n",
        "With the normal sample population we generated above, our **null hypothesis** is that the mean of our sample distribution is equal to 3. We want to test the probability that this is not true. Since we know our distributions are normal (they're generated from a normal distribution!) we can use **parametric statistics** to test our hypothesis.\n",
        "\n",
        "The SciPy stats package has [many hypothesis testing tools](https://docs.scipy.org/doc/scipy/reference/stats.html) (see Statistical Tests). First, we can use a one-way t-test to ask whether our population has a mean different than three."
      ],
      "metadata": {
        "id": "z0FHZ1oGv0QQ"
      }
    },
    {
      "cell_type": "code",
      "source": [
        "sample_mean, sample_sigma = 3, 2\n",
        "sample_pop = np.random.normal(sample_mean, sample_sigma, 20)\n",
        "stats.ttest_1samp(sample_pop, 1)"
      ],
      "metadata": {
        "id": "YSTc0RTswETV",
        "outputId": "3e225ee5-a6a0-45bf-83a0-ac16a61b4b1f",
        "colab": {
          "base_uri": "https://localhost:8080/"
        }
      },
      "execution_count": 61,
      "outputs": [
        {
          "output_type": "execute_result",
          "data": {
            "text/plain": [
              "TtestResult(statistic=3.2757580869517984, pvalue=0.0039765730766550935, df=19)"
            ]
          },
          "metadata": {},
          "execution_count": 61
        }
      ]
    },
    {
      "cell_type": "markdown",
      "source": [
        "Not surprisingly, if we create a normal distribution of mean 3, the distribution is not likely to be different than 3. However, what happens if we change the mean, standard deviation, or sample size?\n",
        "\n",
        "In most cases, we will be testing whether or not two distributions are different from eachother. In order to do so, we can use the independent t-test in our stats package: `stats.ttest_ind()`. If we had paired samples, we would use a dependent t-test [as seen here](https://docs.scipy.org/doc/scipy/reference/generated/scipy.stats.ttest_rel.html#scipy.stats.ttest_rel)."
      ],
      "metadata": {
        "id": "2yUpMH7UwKg_"
      }
    },
    {
      "cell_type": "code",
      "source": [
        "# Create two distributions and test whether they're different\n",
        "pop_1 = np.random.normal(3,2,20)\n",
        "pop_2 = np.random.normal(5,2,20)\n",
        "\n",
        "stats.ttest_ind(pop_1,pop_2)"
      ],
      "metadata": {
        "id": "wUQJhuG1wW34",
        "outputId": "46e622c3-0176-4691-ccc2-fe2222307370",
        "colab": {
          "base_uri": "https://localhost:8080/"
        }
      },
      "execution_count": 68,
      "outputs": [
        {
          "output_type": "execute_result",
          "data": {
            "text/plain": [
              "Ttest_indResult(statistic=-3.3612238605680074, pvalue=0.0017789406041236815)"
            ]
          },
          "metadata": {},
          "execution_count": 68
        }
      ]
    },
    {
      "cell_type": "markdown",
      "source": [
        "If one of our populations is skewed, however, we **cannot use a t-test**. A t-test assumes that the populations are normally distributed. For skewed populations, we can use either the [Mann-Whitney U](https://docs.scipy.org/doc/scipy/reference/generated/scipy.stats.mannwhitneyu.html#scipy.stats.mannwhitneyu) (for independent samples, `stats.mannwhitneyu()`) or the [Wilcoxon Signed Rank Test](https://docs.scipy.org/doc/scipy/reference/generated/scipy.stats.wilcoxon.html#scipy.stats.wilcoxon) (for dependent/paired samples,`stats.wilcoxon()`)."
      ],
      "metadata": {
        "id": "BlG04Tr5wc5T"
      }
    },
    {
      "cell_type": "code",
      "source": [
        "skewed_pop = np.random.gamma(7.5,1,10000)\n",
        "comparison_pop = np.random.normal(8,2,20)\n",
        "\n",
        "stats.mannwhitneyu(skewed_pop,comparison_pop)"
      ],
      "metadata": {
        "id": "S1JTqMCtwiKz",
        "outputId": "4840b81f-3445-4e20-a352-71c862db25dd",
        "colab": {
          "base_uri": "https://localhost:8080/"
        }
      },
      "execution_count": 72,
      "outputs": [
        {
          "output_type": "execute_result",
          "data": {
            "text/plain": [
              "MannwhitneyuResult(statistic=86227.0, pvalue=0.28656159743235743)"
            ]
          },
          "metadata": {},
          "execution_count": 72
        }
      ]
    },
    {
      "cell_type": "markdown",
      "source": [
        "## Part Five: Testing Direction Selectivity in the Brain Observatory\n",
        "\n",
        "Let's work with some real data to apply what we've learned above. Below, we'll create our BrainObservatoryCache instance and look at the possible cre_lines."
      ],
      "metadata": {
        "id": "VUYcIQna4dvS"
      }
    },
    {
      "cell_type": "code",
      "source": [
        "try:\n",
        "    import allensdk\n",
        "    print('allensdk imported')\n",
        "except ImportError as e:\n",
        "    !pip install allensdk\n",
        "\n",
        "# Import pandas & the necessary module from the AllenSDK\n",
        "import pandas as pd\n",
        "from allensdk.core.brain_observatory_cache import BrainObservatoryCache\n",
        "\n",
        "# Create an instance of the Brain Observatory Cache as an object, \"boc.\"\n",
        "boc = BrainObservatoryCache(manifest_file='/datasets/allen-brain-observatory/visual-coding-2p/manifest.json')\n",
        "\n",
        "cre_lines = boc.get_all_cre_lines()\n",
        "print(cre_lines)"
      ],
      "metadata": {
        "id": "_XQ9HpTD4iSf",
        "outputId": "f30c61b2-8bea-4077-c2b8-47095f2bf5c8",
        "colab": {
          "base_uri": "https://localhost:8080/"
        }
      },
      "execution_count": 1,
      "outputs": [
        {
          "output_type": "stream",
          "name": "stdout",
          "text": [
            "allensdk imported\n",
            "['Cux2-CreERT2', 'Emx1-IRES-Cre', 'Fezf2-CreER', 'Nr5a1-Cre', 'Ntsr1-Cre_GN220', 'Pvalb-IRES-Cre', 'Rbp4-Cre_KL100', 'Rorb-IRES2-Cre', 'Scnn1a-Tg3-Cre', 'Slc17a7-IRES2-Cre', 'Sst-IRES-Cre', 'Tlx3-Cre_PL56', 'Vip-IRES-Cre']\n"
          ]
        }
      ]
    },
    {
      "cell_type": "markdown",
      "source": [
        "There's a longstanding debate over whether inhibitory cells in cortex are as direction selective as excitatory cells in cortex. Let's compare the direction selectivity of two different Cre lines: Emx1-Cre, [which marks excitatory cells in cortex](https://www.jneurosci.org/content/22/15/6309) and PV-Cre, which marks most of the inhibitory cells in cortex."
      ],
      "metadata": {
        "id": "dXC2FXsz5rm6"
      }
    },
    {
      "cell_type": "markdown",
      "source": [
        "><b>Task</b>: Get the experiment containers with <code>boc.get_experiment_containers(targeted_structures=[],cre_lines=[])</code> for all experiments in VISp for the Emx1-IRES-Cre and Pvalb-IRES-Cre lines, convert them to Pandas dataframes, and assign them to <code>emx_df</code> and <code>pv_df</code>, respectively."
      ],
      "metadata": {
        "id": "smQN3k5l5vel"
      }
    },
    {
      "cell_type": "code",
      "source": [
        "# Extract experiment containers\n",
        "\n",
        "print(cre_lines)\n",
        "emx_df = boc.get_experiment_containers(targeted_structures=['VISp'],cre_lines=['Emx1-IRES-Cre'])\n",
        "pv_df = boc.get_experiment_containers(targeted_structures=['VISp'],cre_lines=['Pvalb-IRES-Cre'])\n",
        "\n",
        "print(emx_df)\n",
        "\n",
        "emx_df = pd.DataFrame(emx_df)\n",
        "pv_df = pd.DataFrame(pv_df)"
      ],
      "metadata": {
        "id": "9xEk9vOF50G9",
        "colab": {
          "base_uri": "https://localhost:8080/"
        },
        "outputId": "adfaf7f1-5a55-4857-e761-24cb03eabf5d"
      },
      "execution_count": 88,
      "outputs": [
        {
          "output_type": "stream",
          "name": "stdout",
          "text": [
            "['Cux2-CreERT2', 'Emx1-IRES-Cre', 'Fezf2-CreER', 'Nr5a1-Cre', 'Ntsr1-Cre_GN220', 'Pvalb-IRES-Cre', 'Rbp4-Cre_KL100', 'Rorb-IRES2-Cre', 'Scnn1a-Tg3-Cre', 'Slc17a7-IRES2-Cre', 'Sst-IRES-Cre', 'Tlx3-Cre_PL56', 'Vip-IRES-Cre']\n",
            "[{'id': 517328083, 'imaging_depth': 175, 'targeted_structure': 'VISp', 'cre_line': 'Emx1-IRES-Cre', 'reporter_line': 'Ai93(TITL-GCaMP6f)', 'donor_name': '237706', 'specimen_name': 'Emx1-IRES-Cre;Camk2a-tTA;Ai93-237706', 'tags': ['Epileptiform Events'], 'failed': False}, {'id': 536323956, 'imaging_depth': 175, 'targeted_structure': 'VISp', 'cre_line': 'Emx1-IRES-Cre', 'reporter_line': 'Ai93(TITL-GCaMP6f)', 'donor_name': '252174', 'specimen_name': 'Emx1-IRES-Cre;Camk2a-tTA;Ai93(MG)-252174', 'tags': [], 'failed': False}, {'id': 540168835, 'imaging_depth': 375, 'targeted_structure': 'VISp', 'cre_line': 'Emx1-IRES-Cre', 'reporter_line': 'Ai93(TITL-GCaMP6f)', 'donor_name': '261458', 'specimen_name': 'Emx1-IRES-Cre;Camk2a-tTA;Ai93-261458', 'tags': [], 'failed': False}, {'id': 595263152, 'imaging_depth': 375, 'targeted_structure': 'VISp', 'cre_line': 'Emx1-IRES-Cre', 'reporter_line': 'Ai93(TITL-GCaMP6f)', 'donor_name': '309152', 'specimen_name': 'Emx1-IRES-Cre;Camk2a-tTA;Ai93-309152', 'tags': [], 'failed': False}, {'id': 561312433, 'imaging_depth': 275, 'targeted_structure': 'VISp', 'cre_line': 'Emx1-IRES-Cre', 'reporter_line': 'Ai93(TITL-GCaMP6f)', 'donor_name': '280638', 'specimen_name': 'Emx1-IRES-Cre;Camk2a-tTA;Ai93-280638', 'tags': [], 'failed': False}, {'id': 595906107, 'imaging_depth': 275, 'targeted_structure': 'VISp', 'cre_line': 'Emx1-IRES-Cre', 'reporter_line': 'Ai93(TITL-GCaMP6f)', 'donor_name': '309152', 'specimen_name': 'Emx1-IRES-Cre;Camk2a-tTA;Ai93-309152', 'tags': [], 'failed': False}, {'id': 595806298, 'imaging_depth': 375, 'targeted_structure': 'VISp', 'cre_line': 'Emx1-IRES-Cre', 'reporter_line': 'Ai93(TITL-GCaMP6f)', 'donor_name': '311728', 'specimen_name': 'Emx1-IRES-Cre;Camk2a-tTA;Ai93-311728', 'tags': [], 'failed': False}, {'id': 543677425, 'imaging_depth': 175, 'targeted_structure': 'VISp', 'cre_line': 'Emx1-IRES-Cre', 'reporter_line': 'Ai93(TITL-GCaMP6f)', 'donor_name': '260936', 'specimen_name': 'Emx1-IRES-Cre;Camk2a-tTA;Ai93-260936', 'tags': [], 'failed': False}, {'id': 545578995, 'imaging_depth': 375, 'targeted_structure': 'VISp', 'cre_line': 'Emx1-IRES-Cre', 'reporter_line': 'Ai93(TITL-GCaMP6f)', 'donor_name': '260936', 'specimen_name': 'Emx1-IRES-Cre;Camk2a-tTA;Ai93-260936', 'tags': [], 'failed': False}, {'id': 527676429, 'imaging_depth': 275, 'targeted_structure': 'VISp', 'cre_line': 'Emx1-IRES-Cre', 'reporter_line': 'Ai93(TITL-GCaMP6f)', 'donor_name': '237706', 'specimen_name': 'Emx1-IRES-Cre;Camk2a-tTA;Ai93-237706', 'tags': ['Epileptiform Events'], 'failed': False}]\n"
          ]
        }
      ]
    },
    {
      "cell_type": "markdown",
      "source": [
        "Now, we'll need to use the `get_cell_specimens()` method to extract all of the specimens with matching experiment container IDs (running this cell might take a few minutes)."
      ],
      "metadata": {
        "id": "jVEWHwmD8aft"
      }
    },
    {
      "cell_type": "code",
      "source": [
        "emx_containers = list(emx_df['id'])\n",
        "emx_specimens = pd.DataFrame(boc.get_cell_specimens(experiment_container_ids=emx_containers))\n",
        "\n",
        "pv_containers = list(pv_df['id'])\n",
        "pv_specimens = pd.DataFrame(boc.get_cell_specimens(experiment_container_ids=pv_containers))\n",
        "\n",
        "emx_specimens.head()"
      ],
      "metadata": {
        "id": "WXF9PWmU8edF",
        "outputId": "53d3cba0-9b93-446c-a66f-39903f54b516",
        "colab": {
          "base_uri": "https://localhost:8080/",
          "height": 516
        }
      },
      "execution_count": 89,
      "outputs": [
        {
          "output_type": "execute_result",
          "data": {
            "text/plain": [
              "   all_stim  area  cell_specimen_id  \\\n",
              "0     False  VISp         540988027   \n",
              "1     False  VISp         540988031   \n",
              "2     False  VISp         540988044   \n",
              "3     False  VISp         540988049   \n",
              "4     False  VISp         540988054   \n",
              "\n",
              "                                 donor_full_genotype    dsi_dg  \\\n",
              "0  Emx1-IRES-Cre/wt;Camk2a-tTA/wt;Ai93(TITL-GCaMP...       NaN   \n",
              "1  Emx1-IRES-Cre/wt;Camk2a-tTA/wt;Ai93(TITL-GCaMP...       NaN   \n",
              "2  Emx1-IRES-Cre/wt;Camk2a-tTA/wt;Ai93(TITL-GCaMP...       NaN   \n",
              "3  Emx1-IRES-Cre/wt;Camk2a-tTA/wt;Ai93(TITL-GCaMP...  0.576077   \n",
              "4  Emx1-IRES-Cre/wt;Camk2a-tTA/wt;Ai93(TITL-GCaMP...       NaN   \n",
              "\n",
              "   experiment_container_id  failed_experiment_container  g_dsi_dg  g_osi_dg  \\\n",
              "0                517328083                        False       NaN       NaN   \n",
              "1                517328083                        False       NaN       NaN   \n",
              "2                517328083                        False       NaN       NaN   \n",
              "3                517328083                        False  0.586004  0.939233   \n",
              "4                517328083                        False       NaN       NaN   \n",
              "\n",
              "   g_osi_sg  ...  specimen_id   tfdi_dg  time_to_peak_ns  time_to_peak_sg  \\\n",
              "0  0.678751  ...    509522655       NaN          0.23226              NaN   \n",
              "1  0.959401  ...    509522655       NaN          0.26544          0.26544   \n",
              "2       NaN  ...    509522655       NaN              NaN              NaN   \n",
              "3  0.480496  ...    509522655  0.339791          0.19908          0.29862   \n",
              "4  0.942361  ...    509522655       NaN          0.26544          0.29862   \n",
              "\n",
              "     tld1_id      tld1_name    tld2_id   tld2_name    tlr1_id  \\\n",
              "0  177836119  Emx1-IRES-Cre  177837320  Camk2a-tTA  265943423   \n",
              "1  177836119  Emx1-IRES-Cre  177837320  Camk2a-tTA  265943423   \n",
              "2  177836119  Emx1-IRES-Cre  177837320  Camk2a-tTA  265943423   \n",
              "3  177836119  Emx1-IRES-Cre  177837320  Camk2a-tTA  265943423   \n",
              "4  177836119  Emx1-IRES-Cre  177837320  Camk2a-tTA  265943423   \n",
              "\n",
              "            tlr1_name  \n",
              "0  Ai93(TITL-GCaMP6f)  \n",
              "1  Ai93(TITL-GCaMP6f)  \n",
              "2  Ai93(TITL-GCaMP6f)  \n",
              "3  Ai93(TITL-GCaMP6f)  \n",
              "4  Ai93(TITL-GCaMP6f)  \n",
              "\n",
              "[5 rows x 60 columns]"
            ],
            "text/html": [
              "\n",
              "  <div id=\"df-d58cb92b-f01f-4c9a-9fc2-85c12fe0442f\" class=\"colab-df-container\">\n",
              "    <div>\n",
              "<style scoped>\n",
              "    .dataframe tbody tr th:only-of-type {\n",
              "        vertical-align: middle;\n",
              "    }\n",
              "\n",
              "    .dataframe tbody tr th {\n",
              "        vertical-align: top;\n",
              "    }\n",
              "\n",
              "    .dataframe thead th {\n",
              "        text-align: right;\n",
              "    }\n",
              "</style>\n",
              "<table border=\"1\" class=\"dataframe\">\n",
              "  <thead>\n",
              "    <tr style=\"text-align: right;\">\n",
              "      <th></th>\n",
              "      <th>all_stim</th>\n",
              "      <th>area</th>\n",
              "      <th>cell_specimen_id</th>\n",
              "      <th>donor_full_genotype</th>\n",
              "      <th>dsi_dg</th>\n",
              "      <th>experiment_container_id</th>\n",
              "      <th>failed_experiment_container</th>\n",
              "      <th>g_dsi_dg</th>\n",
              "      <th>g_osi_dg</th>\n",
              "      <th>g_osi_sg</th>\n",
              "      <th>...</th>\n",
              "      <th>specimen_id</th>\n",
              "      <th>tfdi_dg</th>\n",
              "      <th>time_to_peak_ns</th>\n",
              "      <th>time_to_peak_sg</th>\n",
              "      <th>tld1_id</th>\n",
              "      <th>tld1_name</th>\n",
              "      <th>tld2_id</th>\n",
              "      <th>tld2_name</th>\n",
              "      <th>tlr1_id</th>\n",
              "      <th>tlr1_name</th>\n",
              "    </tr>\n",
              "  </thead>\n",
              "  <tbody>\n",
              "    <tr>\n",
              "      <th>0</th>\n",
              "      <td>False</td>\n",
              "      <td>VISp</td>\n",
              "      <td>540988027</td>\n",
              "      <td>Emx1-IRES-Cre/wt;Camk2a-tTA/wt;Ai93(TITL-GCaMP...</td>\n",
              "      <td>NaN</td>\n",
              "      <td>517328083</td>\n",
              "      <td>False</td>\n",
              "      <td>NaN</td>\n",
              "      <td>NaN</td>\n",
              "      <td>0.678751</td>\n",
              "      <td>...</td>\n",
              "      <td>509522655</td>\n",
              "      <td>NaN</td>\n",
              "      <td>0.23226</td>\n",
              "      <td>NaN</td>\n",
              "      <td>177836119</td>\n",
              "      <td>Emx1-IRES-Cre</td>\n",
              "      <td>177837320</td>\n",
              "      <td>Camk2a-tTA</td>\n",
              "      <td>265943423</td>\n",
              "      <td>Ai93(TITL-GCaMP6f)</td>\n",
              "    </tr>\n",
              "    <tr>\n",
              "      <th>1</th>\n",
              "      <td>False</td>\n",
              "      <td>VISp</td>\n",
              "      <td>540988031</td>\n",
              "      <td>Emx1-IRES-Cre/wt;Camk2a-tTA/wt;Ai93(TITL-GCaMP...</td>\n",
              "      <td>NaN</td>\n",
              "      <td>517328083</td>\n",
              "      <td>False</td>\n",
              "      <td>NaN</td>\n",
              "      <td>NaN</td>\n",
              "      <td>0.959401</td>\n",
              "      <td>...</td>\n",
              "      <td>509522655</td>\n",
              "      <td>NaN</td>\n",
              "      <td>0.26544</td>\n",
              "      <td>0.26544</td>\n",
              "      <td>177836119</td>\n",
              "      <td>Emx1-IRES-Cre</td>\n",
              "      <td>177837320</td>\n",
              "      <td>Camk2a-tTA</td>\n",
              "      <td>265943423</td>\n",
              "      <td>Ai93(TITL-GCaMP6f)</td>\n",
              "    </tr>\n",
              "    <tr>\n",
              "      <th>2</th>\n",
              "      <td>False</td>\n",
              "      <td>VISp</td>\n",
              "      <td>540988044</td>\n",
              "      <td>Emx1-IRES-Cre/wt;Camk2a-tTA/wt;Ai93(TITL-GCaMP...</td>\n",
              "      <td>NaN</td>\n",
              "      <td>517328083</td>\n",
              "      <td>False</td>\n",
              "      <td>NaN</td>\n",
              "      <td>NaN</td>\n",
              "      <td>NaN</td>\n",
              "      <td>...</td>\n",
              "      <td>509522655</td>\n",
              "      <td>NaN</td>\n",
              "      <td>NaN</td>\n",
              "      <td>NaN</td>\n",
              "      <td>177836119</td>\n",
              "      <td>Emx1-IRES-Cre</td>\n",
              "      <td>177837320</td>\n",
              "      <td>Camk2a-tTA</td>\n",
              "      <td>265943423</td>\n",
              "      <td>Ai93(TITL-GCaMP6f)</td>\n",
              "    </tr>\n",
              "    <tr>\n",
              "      <th>3</th>\n",
              "      <td>False</td>\n",
              "      <td>VISp</td>\n",
              "      <td>540988049</td>\n",
              "      <td>Emx1-IRES-Cre/wt;Camk2a-tTA/wt;Ai93(TITL-GCaMP...</td>\n",
              "      <td>0.576077</td>\n",
              "      <td>517328083</td>\n",
              "      <td>False</td>\n",
              "      <td>0.586004</td>\n",
              "      <td>0.939233</td>\n",
              "      <td>0.480496</td>\n",
              "      <td>...</td>\n",
              "      <td>509522655</td>\n",
              "      <td>0.339791</td>\n",
              "      <td>0.19908</td>\n",
              "      <td>0.29862</td>\n",
              "      <td>177836119</td>\n",
              "      <td>Emx1-IRES-Cre</td>\n",
              "      <td>177837320</td>\n",
              "      <td>Camk2a-tTA</td>\n",
              "      <td>265943423</td>\n",
              "      <td>Ai93(TITL-GCaMP6f)</td>\n",
              "    </tr>\n",
              "    <tr>\n",
              "      <th>4</th>\n",
              "      <td>False</td>\n",
              "      <td>VISp</td>\n",
              "      <td>540988054</td>\n",
              "      <td>Emx1-IRES-Cre/wt;Camk2a-tTA/wt;Ai93(TITL-GCaMP...</td>\n",
              "      <td>NaN</td>\n",
              "      <td>517328083</td>\n",
              "      <td>False</td>\n",
              "      <td>NaN</td>\n",
              "      <td>NaN</td>\n",
              "      <td>0.942361</td>\n",
              "      <td>...</td>\n",
              "      <td>509522655</td>\n",
              "      <td>NaN</td>\n",
              "      <td>0.26544</td>\n",
              "      <td>0.29862</td>\n",
              "      <td>177836119</td>\n",
              "      <td>Emx1-IRES-Cre</td>\n",
              "      <td>177837320</td>\n",
              "      <td>Camk2a-tTA</td>\n",
              "      <td>265943423</td>\n",
              "      <td>Ai93(TITL-GCaMP6f)</td>\n",
              "    </tr>\n",
              "  </tbody>\n",
              "</table>\n",
              "<p>5 rows × 60 columns</p>\n",
              "</div>\n",
              "    <div class=\"colab-df-buttons\">\n",
              "\n",
              "  <div class=\"colab-df-container\">\n",
              "    <button class=\"colab-df-convert\" onclick=\"convertToInteractive('df-d58cb92b-f01f-4c9a-9fc2-85c12fe0442f')\"\n",
              "            title=\"Convert this dataframe to an interactive table.\"\n",
              "            style=\"display:none;\">\n",
              "\n",
              "  <svg xmlns=\"http://www.w3.org/2000/svg\" height=\"24px\" viewBox=\"0 -960 960 960\">\n",
              "    <path d=\"M120-120v-720h720v720H120Zm60-500h600v-160H180v160Zm220 220h160v-160H400v160Zm0 220h160v-160H400v160ZM180-400h160v-160H180v160Zm440 0h160v-160H620v160ZM180-180h160v-160H180v160Zm440 0h160v-160H620v160Z\"/>\n",
              "  </svg>\n",
              "    </button>\n",
              "\n",
              "  <style>\n",
              "    .colab-df-container {\n",
              "      display:flex;\n",
              "      gap: 12px;\n",
              "    }\n",
              "\n",
              "    .colab-df-convert {\n",
              "      background-color: #E8F0FE;\n",
              "      border: none;\n",
              "      border-radius: 50%;\n",
              "      cursor: pointer;\n",
              "      display: none;\n",
              "      fill: #1967D2;\n",
              "      height: 32px;\n",
              "      padding: 0 0 0 0;\n",
              "      width: 32px;\n",
              "    }\n",
              "\n",
              "    .colab-df-convert:hover {\n",
              "      background-color: #E2EBFA;\n",
              "      box-shadow: 0px 1px 2px rgba(60, 64, 67, 0.3), 0px 1px 3px 1px rgba(60, 64, 67, 0.15);\n",
              "      fill: #174EA6;\n",
              "    }\n",
              "\n",
              "    .colab-df-buttons div {\n",
              "      margin-bottom: 4px;\n",
              "    }\n",
              "\n",
              "    [theme=dark] .colab-df-convert {\n",
              "      background-color: #3B4455;\n",
              "      fill: #D2E3FC;\n",
              "    }\n",
              "\n",
              "    [theme=dark] .colab-df-convert:hover {\n",
              "      background-color: #434B5C;\n",
              "      box-shadow: 0px 1px 3px 1px rgba(0, 0, 0, 0.15);\n",
              "      filter: drop-shadow(0px 1px 2px rgba(0, 0, 0, 0.3));\n",
              "      fill: #FFFFFF;\n",
              "    }\n",
              "  </style>\n",
              "\n",
              "    <script>\n",
              "      const buttonEl =\n",
              "        document.querySelector('#df-d58cb92b-f01f-4c9a-9fc2-85c12fe0442f button.colab-df-convert');\n",
              "      buttonEl.style.display =\n",
              "        google.colab.kernel.accessAllowed ? 'block' : 'none';\n",
              "\n",
              "      async function convertToInteractive(key) {\n",
              "        const element = document.querySelector('#df-d58cb92b-f01f-4c9a-9fc2-85c12fe0442f');\n",
              "        const dataTable =\n",
              "          await google.colab.kernel.invokeFunction('convertToInteractive',\n",
              "                                                    [key], {});\n",
              "        if (!dataTable) return;\n",
              "\n",
              "        const docLinkHtml = 'Like what you see? Visit the ' +\n",
              "          '<a target=\"_blank\" href=https://colab.research.google.com/notebooks/data_table.ipynb>data table notebook</a>'\n",
              "          + ' to learn more about interactive tables.';\n",
              "        element.innerHTML = '';\n",
              "        dataTable['output_type'] = 'display_data';\n",
              "        await google.colab.output.renderOutput(dataTable, element);\n",
              "        const docLink = document.createElement('div');\n",
              "        docLink.innerHTML = docLinkHtml;\n",
              "        element.appendChild(docLink);\n",
              "      }\n",
              "    </script>\n",
              "  </div>\n",
              "\n",
              "\n",
              "<div id=\"df-bff5c263-ac80-4a5d-baf3-41578164d36a\">\n",
              "  <button class=\"colab-df-quickchart\" onclick=\"quickchart('df-bff5c263-ac80-4a5d-baf3-41578164d36a')\"\n",
              "            title=\"Suggest charts\"\n",
              "            style=\"display:none;\">\n",
              "\n",
              "<svg xmlns=\"http://www.w3.org/2000/svg\" height=\"24px\"viewBox=\"0 0 24 24\"\n",
              "     width=\"24px\">\n",
              "    <g>\n",
              "        <path d=\"M19 3H5c-1.1 0-2 .9-2 2v14c0 1.1.9 2 2 2h14c1.1 0 2-.9 2-2V5c0-1.1-.9-2-2-2zM9 17H7v-7h2v7zm4 0h-2V7h2v10zm4 0h-2v-4h2v4z\"/>\n",
              "    </g>\n",
              "</svg>\n",
              "  </button>\n",
              "\n",
              "<style>\n",
              "  .colab-df-quickchart {\n",
              "      --bg-color: #E8F0FE;\n",
              "      --fill-color: #1967D2;\n",
              "      --hover-bg-color: #E2EBFA;\n",
              "      --hover-fill-color: #174EA6;\n",
              "      --disabled-fill-color: #AAA;\n",
              "      --disabled-bg-color: #DDD;\n",
              "  }\n",
              "\n",
              "  [theme=dark] .colab-df-quickchart {\n",
              "      --bg-color: #3B4455;\n",
              "      --fill-color: #D2E3FC;\n",
              "      --hover-bg-color: #434B5C;\n",
              "      --hover-fill-color: #FFFFFF;\n",
              "      --disabled-bg-color: #3B4455;\n",
              "      --disabled-fill-color: #666;\n",
              "  }\n",
              "\n",
              "  .colab-df-quickchart {\n",
              "    background-color: var(--bg-color);\n",
              "    border: none;\n",
              "    border-radius: 50%;\n",
              "    cursor: pointer;\n",
              "    display: none;\n",
              "    fill: var(--fill-color);\n",
              "    height: 32px;\n",
              "    padding: 0;\n",
              "    width: 32px;\n",
              "  }\n",
              "\n",
              "  .colab-df-quickchart:hover {\n",
              "    background-color: var(--hover-bg-color);\n",
              "    box-shadow: 0 1px 2px rgba(60, 64, 67, 0.3), 0 1px 3px 1px rgba(60, 64, 67, 0.15);\n",
              "    fill: var(--button-hover-fill-color);\n",
              "  }\n",
              "\n",
              "  .colab-df-quickchart-complete:disabled,\n",
              "  .colab-df-quickchart-complete:disabled:hover {\n",
              "    background-color: var(--disabled-bg-color);\n",
              "    fill: var(--disabled-fill-color);\n",
              "    box-shadow: none;\n",
              "  }\n",
              "\n",
              "  .colab-df-spinner {\n",
              "    border: 2px solid var(--fill-color);\n",
              "    border-color: transparent;\n",
              "    border-bottom-color: var(--fill-color);\n",
              "    animation:\n",
              "      spin 1s steps(1) infinite;\n",
              "  }\n",
              "\n",
              "  @keyframes spin {\n",
              "    0% {\n",
              "      border-color: transparent;\n",
              "      border-bottom-color: var(--fill-color);\n",
              "      border-left-color: var(--fill-color);\n",
              "    }\n",
              "    20% {\n",
              "      border-color: transparent;\n",
              "      border-left-color: var(--fill-color);\n",
              "      border-top-color: var(--fill-color);\n",
              "    }\n",
              "    30% {\n",
              "      border-color: transparent;\n",
              "      border-left-color: var(--fill-color);\n",
              "      border-top-color: var(--fill-color);\n",
              "      border-right-color: var(--fill-color);\n",
              "    }\n",
              "    40% {\n",
              "      border-color: transparent;\n",
              "      border-right-color: var(--fill-color);\n",
              "      border-top-color: var(--fill-color);\n",
              "    }\n",
              "    60% {\n",
              "      border-color: transparent;\n",
              "      border-right-color: var(--fill-color);\n",
              "    }\n",
              "    80% {\n",
              "      border-color: transparent;\n",
              "      border-right-color: var(--fill-color);\n",
              "      border-bottom-color: var(--fill-color);\n",
              "    }\n",
              "    90% {\n",
              "      border-color: transparent;\n",
              "      border-bottom-color: var(--fill-color);\n",
              "    }\n",
              "  }\n",
              "</style>\n",
              "\n",
              "  <script>\n",
              "    async function quickchart(key) {\n",
              "      const quickchartButtonEl =\n",
              "        document.querySelector('#' + key + ' button');\n",
              "      quickchartButtonEl.disabled = true;  // To prevent multiple clicks.\n",
              "      quickchartButtonEl.classList.add('colab-df-spinner');\n",
              "      try {\n",
              "        const charts = await google.colab.kernel.invokeFunction(\n",
              "            'suggestCharts', [key], {});\n",
              "      } catch (error) {\n",
              "        console.error('Error during call to suggestCharts:', error);\n",
              "      }\n",
              "      quickchartButtonEl.classList.remove('colab-df-spinner');\n",
              "      quickchartButtonEl.classList.add('colab-df-quickchart-complete');\n",
              "    }\n",
              "    (() => {\n",
              "      let quickchartButtonEl =\n",
              "        document.querySelector('#df-bff5c263-ac80-4a5d-baf3-41578164d36a button');\n",
              "      quickchartButtonEl.style.display =\n",
              "        google.colab.kernel.accessAllowed ? 'block' : 'none';\n",
              "    })();\n",
              "  </script>\n",
              "</div>\n",
              "\n",
              "    </div>\n",
              "  </div>\n"
            ],
            "application/vnd.google.colaboratory.intrinsic+json": {
              "type": "dataframe",
              "variable_name": "emx_specimens"
            }
          },
          "metadata": {},
          "execution_count": 89
        }
      ]
    },
    {
      "cell_type": "markdown",
      "source": [
        "><b>Task</b>: Create a plot with two subplots. The left should be a histogram of our DSI values ('dsi_dg') for Emx1-Cre and PV-Cre cells. The right should be a boxplot of the DSI values ('dsi_dg'). You can create a histogram of one column of a <code>dataframe</code> by using the syntax <code>df['column_name']</code>."
      ],
      "metadata": {
        "id": "PV7PzihF-Mmk"
      }
    },
    {
      "cell_type": "code",
      "source": [
        "# First, we need to filter NaN values out of our data because python will refuse to make boxplots if they're included\n",
        "\n",
        "emx_dsi = emx_specimens['dsi_dg']\n",
        "pv_dsi = pv_specimens['dsi_dg']\n",
        "emx_dsi = emx_dsi[~np.isnan(emx_dsi)] # Emx-IRES-Cre DSI values without NaN\n",
        "pv_dsi = pv_dsi[~np.isnan(pv_dsi)] # Pvalb-IRES-Cre DSI values without NaN\n",
        "filtered = [emx_dsi,pv_dsi]\n",
        "\n",
        "# Your code here! Start with defining your subplot axes\n",
        "fig, ax = plt.subplots(1,2,figsize=(15,7.5))\n",
        "\n",
        "# Next, make your histogram (see code cell in part three of this notebook for an example of how to make overlapping histograms)\n",
        "ax[0].hist(emx_dsi)\n",
        "ax[0].hist(pv_dsi)\n",
        "\n",
        "# Next, make your boxplot (make sure you use the filtered data!)ax[1].boxplot(filtered, labels=['emx', 'pv'])\n",
        "ax[1].boxplot(filtered, labels=['emx', 'pv'])\n",
        "\n",
        "plt.show()"
      ],
      "metadata": {
        "id": "_cja3ig8-R8P",
        "outputId": "bf1f5787-e734-4972-8b2e-91dad411df42",
        "colab": {
          "base_uri": "https://localhost:8080/",
          "height": 638
        }
      },
      "execution_count": 98,
      "outputs": [
        {
          "output_type": "display_data",
          "data": {
            "text/plain": [
              "<Figure size 1500x750 with 2 Axes>"
            ],
            "image/png": "[encoded data removed]"
          },
          "metadata": {}
        }
      ]
    },
    {
      "cell_type": "markdown",
      "source": [
        "><b>Task</b>: Determine whether these two samples of DSI values are statistically different! Write code that first checks whether or not the distributions are skewed, and then runs the appropriate statistics (hint: use the two variables that *do not* contain NaN values)."
      ],
      "metadata": {
        "id": "dIzqV4H0GWR6"
      }
    },
    {
      "cell_type": "code",
      "source": [
        "# Your code here"
      ],
      "metadata": {
        "id": "THfRn4hOG2R1"
      },
      "execution_count": null,
      "outputs": []
    }
  ]
}